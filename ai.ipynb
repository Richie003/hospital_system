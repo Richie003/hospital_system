{
 "cells": [
  {
   "cell_type": "code",
   "execution_count": 71,
   "metadata": {},
   "outputs": [
    {
     "name": "stdout",
     "output_type": "stream",
     "text": [
      "make appointment\n",
      "make appointment\n"
     ]
    }
   ],
   "source": [
    "help_list = [\n",
    "    \"check appointment\",\n",
    "    \"make appointment\",\n",
    "]\n",
    "\n",
    "def compare_processor(data) -> bool:\n",
    "    for text in help_list:\n",
    "        words = text.split()\n",
    "        if data in words:\n",
    "            return True\n",
    "    return False\n",
    "\n",
    "def text_processor(data):\n",
    "    data = data.lower()\n",
    "    check_help_list = [word for word in data.split() if compare_processor(word)]\n",
    "    if not check_help_list:\n",
    "        return None\n",
    "    elif check_help_list and len(check_help_list) >= 2:\n",
    "        return \"{} {}\".format(check_help_list[0], check_help_list[1])\n",
    "    else:\n",
    "        return None\n",
    "\n",
    "data = input(\">>> \")\n",
    "print(data)\n",
    "result = text_processor(data)\n",
    "print(result)\n"
   ]
  },
  {
   "cell_type": "code",
   "execution_count": 33,
   "metadata": {},
   "outputs": [
    {
     "name": "stdout",
     "output_type": "stream",
     "text": [
      "['h', 'e', 'l', 'l', 'o']\n"
     ]
    }
   ],
   "source": [
    "*_, = \"hello\"\n",
    "print(_)"
   ]
  }
 ],
 "metadata": {
  "kernelspec": {
   "display_name": "Python 3",
   "language": "python",
   "name": "python3"
  },
  "language_info": {
   "codemirror_mode": {
    "name": "ipython",
    "version": 3
   },
   "file_extension": ".py",
   "mimetype": "text/x-python",
   "name": "python",
   "nbconvert_exporter": "python",
   "pygments_lexer": "ipython3",
   "version": "3.8.6rc1"
  }
 },
 "nbformat": 4,
 "nbformat_minor": 2
}
